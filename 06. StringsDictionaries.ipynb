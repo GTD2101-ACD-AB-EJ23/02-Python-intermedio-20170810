{
  "cells": [
    {
      "cell_type": "markdown",
      "metadata": {
        "id": "view-in-github",
        "colab_type": "text"
      },
      "source": [
        "<a href=\"https://colab.research.google.com/github/GTD2101-ACD-AB-EJ23/02-Python-intermedio-20170810/blob/main/06.%20StringsDictionaries.ipynb\" target=\"_parent\"><img src=\"https://colab.research.google.com/assets/colab-badge.svg\" alt=\"Open In Colab\"/></a>"
      ]
    },
    {
      "cell_type": "markdown",
      "metadata": {
        "id": "jHISmI9L_hly"
      },
      "source": [
        "# Strings y Diccionarios\n",
        "\n",
        "En este JNB se revisará el tema de Strings y Diccionarios."
      ]
    },
    {
      "cell_type": "code",
      "execution_count": null,
      "metadata": {
        "id": "O8NoTzxjs2wK",
        "outputId": "fa4bc249-a4fa-48a6-9dc6-7733646ed223"
      },
      "outputs": [
        {
          "name": "stdout",
          "output_type": "stream",
          "text": [
            "Hello World!\n"
          ]
        }
      ],
      "source": [
        "print(\"Hello World!\")"
      ]
    },
    {
      "cell_type": "code",
      "source": [
        "print(\"hello\")\n",
        "print(\"world\")\n",
        "print(\"hello\", end=' ')\n",
        "print(\"pluto\", end='')"
      ],
      "metadata": {
        "id": "2scR8uTH_lca",
        "outputId": "51044cfb-1253-4d2e-bc5b-8d6a8a060403",
        "colab": {
          "base_uri": "https://localhost:8080/"
        }
      },
      "execution_count": 1,
      "outputs": [
        {
          "output_type": "stream",
          "name": "stdout",
          "text": [
            "hello\n",
            "world\n",
            "hello pluto"
          ]
        }
      ]
    },
    {
      "cell_type": "code",
      "source": [
        "nombre = \"Instituto Tecnológico de Culiacán\"\n",
        "print(nombre.startswith(\"Instituto\"))"
      ],
      "metadata": {
        "id": "yiVq02B2_vmv",
        "outputId": "a0007944-c1c7-4f69-ce19-27ccd5dee26e",
        "colab": {
          "base_uri": "https://localhost:8080/"
        }
      },
      "execution_count": 2,
      "outputs": [
        {
          "output_type": "stream",
          "name": "stdout",
          "text": [
            "True\n"
          ]
        }
      ]
    },
    {
      "cell_type": "code",
      "source": [
        "texto = \"rojo,amarillo,azul,verde,rosa,negro,marrón,gris\"\n",
        "colores = texto.split(\",\")\n",
        "print(colores)"
      ],
      "metadata": {
        "id": "XOBFaV1P_wpX",
        "outputId": "2faf1a3f-e640-4143-816a-f6a43e03c1ae",
        "colab": {
          "base_uri": "https://localhost:8080/"
        }
      },
      "execution_count": 3,
      "outputs": [
        {
          "output_type": "stream",
          "name": "stdout",
          "text": [
            "['rojo', 'amarillo', 'azul', 'verde', 'rosa', 'negro', 'marrón', 'gris']\n"
          ]
        }
      ]
    },
    {
      "cell_type": "code",
      "source": [
        "jefe = \"Sainz Benitez Luis Enrique\"\n",
        "print(jefe.split())\n",
        "variable = \"👻\".join(jefe.split())\n",
        "print(variable) "
      ],
      "metadata": {
        "id": "sqy42fZV_zPk",
        "outputId": "4438f8d9-918a-4c9f-a570-5d849402a968",
        "colab": {
          "base_uri": "https://localhost:8080/"
        }
      },
      "execution_count": 4,
      "outputs": [
        {
          "output_type": "stream",
          "name": "stdout",
          "text": [
            "['Sainz', 'Benitez', 'Luis', 'Enrique']\n",
            "Sainz👻Benitez👻Luis👻Enrique\n"
          ]
        }
      ]
    },
    {
      "cell_type": "code",
      "source": [
        "planet = \"Plutón\"\n",
        "position = 9\n",
        "text1 = \"{}, you'll always be the {}th planet to me.\".format(planet, position)\n",
        "print(text1)"
      ],
      "metadata": {
        "id": "mMH3G2OG_2BW",
        "outputId": "9e854b03-45fc-4797-900d-8b3658db3818",
        "colab": {
          "base_uri": "https://localhost:8080/"
        }
      },
      "execution_count": 5,
      "outputs": [
        {
          "output_type": "stream",
          "name": "stdout",
          "text": [
            "Plutón, you'll always be the 9th planet to me.\n"
          ]
        }
      ]
    },
    {
      "cell_type": "code",
      "source": [
        "planet = \"Plutón\"\n",
        "position = 9\n",
        "text1 = f\"{planet}, you'll always be the {position}th planet to me.\"\n",
        "print(text1)"
      ],
      "metadata": {
        "id": "6AqIt4sT_5n0",
        "outputId": "54101661-f112-499a-bdc7-790da98a47d3",
        "colab": {
          "base_uri": "https://localhost:8080/"
        }
      },
      "execution_count": 6,
      "outputs": [
        {
          "output_type": "stream",
          "name": "stdout",
          "text": [
            "Plutón, you'll always be the 9th planet to me.\n"
          ]
        }
      ]
    }
  ],
  "metadata": {
    "colab": {
      "provenance": [],
      "include_colab_link": true
    },
    "kernelspec": {
      "display_name": "Python 3.10.7 64-bit",
      "language": "python",
      "name": "python3"
    },
    "language_info": {
      "codemirror_mode": {
        "name": "ipython",
        "version": 3
      },
      "file_extension": ".py",
      "mimetype": "text/x-python",
      "name": "python",
      "nbconvert_exporter": "python",
      "pygments_lexer": "ipython3",
      "version": "3.10.7"
    },
    "orig_nbformat": 4,
    "vscode": {
      "interpreter": {
        "hash": "eb4a0ac80907d7f44e1a5e88d3d3381b33e3dbedd3a24d113e876f30a0c46bee"
      }
    }
  },
  "nbformat": 4,
  "nbformat_minor": 0
}